{
 "cells": [
  {
   "cell_type": "markdown",
   "id": "cddde51f-d16e-43de-85c3-e7d648186750",
   "metadata": {},
   "source": [
    "## Business Application: ADVERTISING SPEND OPTIMIZATION\n",
    "## İş Uygulaması :REKLAM HARCAMASI OPTİMİZASYONU"
   ]
  },
  {
   "cell_type": "code",
   "execution_count": 10,
   "id": "08a871a4-e91a-4f00-af23-10bc810b5474",
   "metadata": {},
   "outputs": [],
   "source": [
    "##Problem: Ads are placed in various media, the click-through and recycling rates of the ads are low.\n",
    "# I'm trying to #optimize.\n",
    "#For this purpose, it is desired to calculate the probability of an ad being clicked in a certain environment, according to various scenarios.\n",
    "#Detail:\n",
    "### Advertising will be given in a medium.\n",
    "### The distribution of the ad and its probability of being clicked are known. (0.01)\n",
    "##Question ? What is the probability of 1,5,10 clicks when 100 people see the ad?\n",
    "\n",
    "\n",
    "\n",
    "#Problem : Çeşitli mecralara reklam veriliyor, reklamların tıklanma ve geri dönüşüm oranları\n",
    "#optimize edilmeye çalışılıyor.\n",
    "#Buna yönelik olarak belirli bir mecrada çeşitli senaryolara göre reklama tıklama olasılıkları hesaplanmak istenılıyor.\n",
    "#Detaylar :\n",
    "### Bir mecrada reklam verilecek.\n",
    "### Dağılım ve reklama tıklama olasılığı biliniyor. (0.01)\n",
    "##Soru ? Reklamı 100 kişi gördüğünde 1,5,10 tıklanması olasılığı nedir?"
   ]
  },
  {
   "cell_type": "code",
   "execution_count": 8,
   "id": "38716a91-951f-43cd-8d96-bf683a267b6c",
   "metadata": {},
   "outputs": [],
   "source": [
    "from scipy.stats import binom"
   ]
  },
  {
   "cell_type": "code",
   "execution_count": 9,
   "id": "7443661c-94f9-49c9-9fe6-5df02045aa29",
   "metadata": {},
   "outputs": [
    {
     "name": "stdout",
     "output_type": "stream",
     "text": [
      "0.36972963764972666\n",
      "0.0028977871237614783\n",
      "7.006035693977194e-08\n"
     ]
    }
   ],
   "source": [
    "p = 0.01\n",
    "n=100\n",
    "rv = binom(n,p)\n",
    "print(rv.pmf(1))\n",
    "print(rv.pmf(5))\n",
    "print(rv.pmf(10))"
   ]
  },
  {
   "cell_type": "code",
   "execution_count": null,
   "id": "1411d6fa-866b-4326-b732-fa8588731dc7",
   "metadata": {},
   "outputs": [],
   "source": []
  },
  {
   "cell_type": "code",
   "execution_count": null,
   "id": "1f7af6a9-c11c-4274-878f-43bf78aa8b89",
   "metadata": {},
   "outputs": [],
   "source": []
  }
 ],
 "metadata": {
  "kernelspec": {
   "display_name": "Python 3 (ipykernel)",
   "language": "python",
   "name": "python3"
  },
  "language_info": {
   "codemirror_mode": {
    "name": "ipython",
    "version": 3
   },
   "file_extension": ".py",
   "mimetype": "text/x-python",
   "name": "python",
   "nbconvert_exporter": "python",
   "pygments_lexer": "ipython3",
   "version": "3.9.13"
  }
 },
 "nbformat": 4,
 "nbformat_minor": 5
}
